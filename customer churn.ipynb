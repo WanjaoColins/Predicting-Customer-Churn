{
 "cells": [
  {
   "cell_type": "markdown",
   "metadata": {},
   "source": [
    "![Image header](Fraud%20Image.png)"
   ]
  },
  {
   "cell_type": "markdown",
   "metadata": {},
   "source": [
    "**Authors:** Janet Atunga, Colins Wanjao, Anita Bosibori, Ruth Kamau, Bernard Kinyua, Joyleen Cherono\n",
    "\n",
    "**Date Created:** 06-02-2024\n",
    "\n",
    "**Discipline:** DS-PT05"
   ]
  },
  {
   "cell_type": "markdown",
   "metadata": {},
   "source": [
    "<h1 style=\"background-color: #cfe3f5; padding: 10px; color: black;\"><b>Leveraging Machine Learning For Predicting Customer Churn</b></h1>"
   ]
  },
  {
   "cell_type": "markdown",
   "metadata": {},
   "source": [
    "## Executive Summary\n",
    "\n",
    "In response to the escalating threat of credit card fraud in the digital economy, we undertook a machine learning project to develop effective models for detecting fraudulent transactions in real-time. Machine learning was chosen over simple data analysis due to its ability to handle the complexity and scale of the problem, offering more accurate predictions and adaptability to evolving fraud patterns.\n",
    "\n",
    "Exploring various machine learning algorithms using transactional data, including logistic regression, decision tree classifiers, KNN classifiers, and random forest classifiers, revealed valuable insights. Logistic regression consistently performed well, with marginal improvement observed after tuning. Conversely, the decision tree classifier's performance declined post-tuning, suggesting potential overfitting. The KNN classifier emerged as a strong performer, showing impressive results across all metrics, with minimal gains from tuning. Due to computational constraints, a base Random Forest classifier could not be trained, but hyperparameter tuning yielded a competitive model.\n",
    "\n",
    "To maintain effectiveness, continuous monitoring and updating of models with new data and evolving fraud patterns are recommended. Further exploration of hyperparameter tuning techniques and ensemble methods could enhance model performance and robustness, highlighting the ongoing need for innovation in combating credit card fraud in the digital era."
   ]
  },
  {
   "cell_type": "markdown",
   "metadata": {},
   "source": [
    "## Business Problem\n",
    "\n",
    "\n"
   ]
  },
  {
   "cell_type": "markdown",
   "metadata": {},
   "source": [
    "## Research Questions\n",
    "\n"
   ]
  },
  {
   "cell_type": "markdown",
   "metadata": {},
   "source": [
    "## Data Understanding"
   ]
  },
  {
   "cell_type": "code",
   "execution_count": 3,
   "metadata": {},
   "outputs": [
    {
     "name": "stdout",
     "output_type": "stream",
     "text": [
      "Requirement already satisfied: Scikit-learn in c:\\users\\user\\anaconda3\\envs\\learn-env\\lib\\site-packages (1.3.2)\n",
      "Requirement already satisfied: joblib>=1.1.1 in c:\\users\\user\\anaconda3\\envs\\learn-env\\lib\\site-packages (from Scikit-learn) (1.3.2)\n",
      "Requirement already satisfied: numpy<2.0,>=1.17.3 in c:\\users\\user\\anaconda3\\envs\\learn-env\\lib\\site-packages (from Scikit-learn) (1.18.5)\n",
      "Requirement already satisfied: scipy>=1.5.0 in c:\\users\\user\\anaconda3\\envs\\learn-env\\lib\\site-packages (from Scikit-learn) (1.5.0)\n",
      "Requirement already satisfied: threadpoolctl>=2.0.0 in c:\\users\\user\\anaconda3\\envs\\learn-env\\lib\\site-packages (from Scikit-learn) (2.1.0)\n"
     ]
    }
   ],
   "source": [
    "! pip install Scikit-learn"
   ]
  },
  {
   "cell_type": "code",
   "execution_count": 5,
   "metadata": {},
   "outputs": [],
   "source": [
    "# Import Standard Libraries\n",
    "\n",
    "import pandas as pd \n",
    "import numpy as np \n",
    "import matplotlib.pyplot as plt \n",
    "%matplotlib inline\n",
    "import seaborn as sns\n",
    "\n",
    "\n",
    "# Import classifier libraries\n",
    "\n",
    "from sklearn.linear_model import LogisticRegression\n",
    "from sklearn.neighbors import KNeighborsClassifier\n",
    "from sklearn.tree import DecisionTreeClassifier\n",
    "from sklearn.ensemble import RandomForestClassifier\n",
    "\n",
    "\n",
    "# Other libraries\n",
    "\n",
    "from sklearn.model_selection import train_test_split, cross_val_score\n",
    "from imblearn.over_sampling import SMOTE\n",
    "from sklearn.pipeline import Pipeline\n",
    "from sklearn.preprocessing import StandardScaler\n",
    "from sklearn.model_selection import RepeatedStratifiedKFold, GridSearchCV, RandomizedSearchCV\n",
    "from sklearn.metrics import roc_auc_score, auc\n",
    "from sklearn.metrics import roc_curve, confusion_matrix, classification_report\n",
    "\n",
    "import warnings\n",
    "warnings.filterwarnings(\"ignore\")"
   ]
  },
  {
   "cell_type": "markdown",
   "metadata": {},
   "source": [
    "### Loading and Inspecting Data Set"
   ]
  },
  {
   "cell_type": "code",
   "execution_count": 7,
   "metadata": {},
   "outputs": [],
   "source": [
    "# Loading dataset\n",
    "\n",
    "df = pd.read_csv('Data.csv')"
   ]
  },
  {
   "cell_type": "code",
   "execution_count": 8,
   "metadata": {},
   "outputs": [
    {
     "data": {
      "text/html": [
       "<div>\n",
       "<style scoped>\n",
       "    .dataframe tbody tr th:only-of-type {\n",
       "        vertical-align: middle;\n",
       "    }\n",
       "\n",
       "    .dataframe tbody tr th {\n",
       "        vertical-align: top;\n",
       "    }\n",
       "\n",
       "    .dataframe thead th {\n",
       "        text-align: right;\n",
       "    }\n",
       "</style>\n",
       "<table border=\"1\" class=\"dataframe\">\n",
       "  <thead>\n",
       "    <tr style=\"text-align: right;\">\n",
       "      <th></th>\n",
       "      <th>state</th>\n",
       "      <th>account length</th>\n",
       "      <th>area code</th>\n",
       "      <th>phone number</th>\n",
       "      <th>international plan</th>\n",
       "      <th>voice mail plan</th>\n",
       "      <th>number vmail messages</th>\n",
       "      <th>total day minutes</th>\n",
       "      <th>total day calls</th>\n",
       "      <th>total day charge</th>\n",
       "      <th>...</th>\n",
       "      <th>total eve calls</th>\n",
       "      <th>total eve charge</th>\n",
       "      <th>total night minutes</th>\n",
       "      <th>total night calls</th>\n",
       "      <th>total night charge</th>\n",
       "      <th>total intl minutes</th>\n",
       "      <th>total intl calls</th>\n",
       "      <th>total intl charge</th>\n",
       "      <th>customer service calls</th>\n",
       "      <th>churn</th>\n",
       "    </tr>\n",
       "  </thead>\n",
       "  <tbody>\n",
       "    <tr>\n",
       "      <th>0</th>\n",
       "      <td>KS</td>\n",
       "      <td>128</td>\n",
       "      <td>415</td>\n",
       "      <td>382-4657</td>\n",
       "      <td>no</td>\n",
       "      <td>yes</td>\n",
       "      <td>25</td>\n",
       "      <td>265.1</td>\n",
       "      <td>110</td>\n",
       "      <td>45.07</td>\n",
       "      <td>...</td>\n",
       "      <td>99</td>\n",
       "      <td>16.78</td>\n",
       "      <td>244.7</td>\n",
       "      <td>91</td>\n",
       "      <td>11.01</td>\n",
       "      <td>10.0</td>\n",
       "      <td>3</td>\n",
       "      <td>2.70</td>\n",
       "      <td>1</td>\n",
       "      <td>False</td>\n",
       "    </tr>\n",
       "    <tr>\n",
       "      <th>1</th>\n",
       "      <td>OH</td>\n",
       "      <td>107</td>\n",
       "      <td>415</td>\n",
       "      <td>371-7191</td>\n",
       "      <td>no</td>\n",
       "      <td>yes</td>\n",
       "      <td>26</td>\n",
       "      <td>161.6</td>\n",
       "      <td>123</td>\n",
       "      <td>27.47</td>\n",
       "      <td>...</td>\n",
       "      <td>103</td>\n",
       "      <td>16.62</td>\n",
       "      <td>254.4</td>\n",
       "      <td>103</td>\n",
       "      <td>11.45</td>\n",
       "      <td>13.7</td>\n",
       "      <td>3</td>\n",
       "      <td>3.70</td>\n",
       "      <td>1</td>\n",
       "      <td>False</td>\n",
       "    </tr>\n",
       "    <tr>\n",
       "      <th>2</th>\n",
       "      <td>NJ</td>\n",
       "      <td>137</td>\n",
       "      <td>415</td>\n",
       "      <td>358-1921</td>\n",
       "      <td>no</td>\n",
       "      <td>no</td>\n",
       "      <td>0</td>\n",
       "      <td>243.4</td>\n",
       "      <td>114</td>\n",
       "      <td>41.38</td>\n",
       "      <td>...</td>\n",
       "      <td>110</td>\n",
       "      <td>10.30</td>\n",
       "      <td>162.6</td>\n",
       "      <td>104</td>\n",
       "      <td>7.32</td>\n",
       "      <td>12.2</td>\n",
       "      <td>5</td>\n",
       "      <td>3.29</td>\n",
       "      <td>0</td>\n",
       "      <td>False</td>\n",
       "    </tr>\n",
       "    <tr>\n",
       "      <th>3</th>\n",
       "      <td>OH</td>\n",
       "      <td>84</td>\n",
       "      <td>408</td>\n",
       "      <td>375-9999</td>\n",
       "      <td>yes</td>\n",
       "      <td>no</td>\n",
       "      <td>0</td>\n",
       "      <td>299.4</td>\n",
       "      <td>71</td>\n",
       "      <td>50.90</td>\n",
       "      <td>...</td>\n",
       "      <td>88</td>\n",
       "      <td>5.26</td>\n",
       "      <td>196.9</td>\n",
       "      <td>89</td>\n",
       "      <td>8.86</td>\n",
       "      <td>6.6</td>\n",
       "      <td>7</td>\n",
       "      <td>1.78</td>\n",
       "      <td>2</td>\n",
       "      <td>False</td>\n",
       "    </tr>\n",
       "    <tr>\n",
       "      <th>4</th>\n",
       "      <td>OK</td>\n",
       "      <td>75</td>\n",
       "      <td>415</td>\n",
       "      <td>330-6626</td>\n",
       "      <td>yes</td>\n",
       "      <td>no</td>\n",
       "      <td>0</td>\n",
       "      <td>166.7</td>\n",
       "      <td>113</td>\n",
       "      <td>28.34</td>\n",
       "      <td>...</td>\n",
       "      <td>122</td>\n",
       "      <td>12.61</td>\n",
       "      <td>186.9</td>\n",
       "      <td>121</td>\n",
       "      <td>8.41</td>\n",
       "      <td>10.1</td>\n",
       "      <td>3</td>\n",
       "      <td>2.73</td>\n",
       "      <td>3</td>\n",
       "      <td>False</td>\n",
       "    </tr>\n",
       "  </tbody>\n",
       "</table>\n",
       "<p>5 rows × 21 columns</p>\n",
       "</div>"
      ],
      "text/plain": [
       "  state  account length  area code phone number international plan  \\\n",
       "0    KS             128        415     382-4657                 no   \n",
       "1    OH             107        415     371-7191                 no   \n",
       "2    NJ             137        415     358-1921                 no   \n",
       "3    OH              84        408     375-9999                yes   \n",
       "4    OK              75        415     330-6626                yes   \n",
       "\n",
       "  voice mail plan  number vmail messages  total day minutes  total day calls  \\\n",
       "0             yes                     25              265.1              110   \n",
       "1             yes                     26              161.6              123   \n",
       "2              no                      0              243.4              114   \n",
       "3              no                      0              299.4               71   \n",
       "4              no                      0              166.7              113   \n",
       "\n",
       "   total day charge  ...  total eve calls  total eve charge  \\\n",
       "0             45.07  ...               99             16.78   \n",
       "1             27.47  ...              103             16.62   \n",
       "2             41.38  ...              110             10.30   \n",
       "3             50.90  ...               88              5.26   \n",
       "4             28.34  ...              122             12.61   \n",
       "\n",
       "   total night minutes  total night calls  total night charge  \\\n",
       "0                244.7                 91               11.01   \n",
       "1                254.4                103               11.45   \n",
       "2                162.6                104                7.32   \n",
       "3                196.9                 89                8.86   \n",
       "4                186.9                121                8.41   \n",
       "\n",
       "   total intl minutes  total intl calls  total intl charge  \\\n",
       "0                10.0                 3               2.70   \n",
       "1                13.7                 3               3.70   \n",
       "2                12.2                 5               3.29   \n",
       "3                 6.6                 7               1.78   \n",
       "4                10.1                 3               2.73   \n",
       "\n",
       "   customer service calls  churn  \n",
       "0                       1  False  \n",
       "1                       1  False  \n",
       "2                       0  False  \n",
       "3                       2  False  \n",
       "4                       3  False  \n",
       "\n",
       "[5 rows x 21 columns]"
      ]
     },
     "execution_count": 8,
     "metadata": {},
     "output_type": "execute_result"
    }
   ],
   "source": [
    "# Previewing the dataset\n",
    "\n",
    "df.head(5)"
   ]
  },
  {
   "cell_type": "code",
   "execution_count": 9,
   "metadata": {},
   "outputs": [
    {
     "data": {
      "text/html": [
       "<div>\n",
       "<style scoped>\n",
       "    .dataframe tbody tr th:only-of-type {\n",
       "        vertical-align: middle;\n",
       "    }\n",
       "\n",
       "    .dataframe tbody tr th {\n",
       "        vertical-align: top;\n",
       "    }\n",
       "\n",
       "    .dataframe thead th {\n",
       "        text-align: right;\n",
       "    }\n",
       "</style>\n",
       "<table border=\"1\" class=\"dataframe\">\n",
       "  <thead>\n",
       "    <tr style=\"text-align: right;\">\n",
       "      <th></th>\n",
       "      <th>state</th>\n",
       "      <th>account length</th>\n",
       "      <th>area code</th>\n",
       "      <th>phone number</th>\n",
       "      <th>international plan</th>\n",
       "      <th>voice mail plan</th>\n",
       "      <th>number vmail messages</th>\n",
       "      <th>total day minutes</th>\n",
       "      <th>total day calls</th>\n",
       "      <th>total day charge</th>\n",
       "      <th>...</th>\n",
       "      <th>total eve calls</th>\n",
       "      <th>total eve charge</th>\n",
       "      <th>total night minutes</th>\n",
       "      <th>total night calls</th>\n",
       "      <th>total night charge</th>\n",
       "      <th>total intl minutes</th>\n",
       "      <th>total intl calls</th>\n",
       "      <th>total intl charge</th>\n",
       "      <th>customer service calls</th>\n",
       "      <th>churn</th>\n",
       "    </tr>\n",
       "  </thead>\n",
       "  <tbody>\n",
       "    <tr>\n",
       "      <th>1273</th>\n",
       "      <td>MT</td>\n",
       "      <td>28</td>\n",
       "      <td>415</td>\n",
       "      <td>357-9136</td>\n",
       "      <td>no</td>\n",
       "      <td>no</td>\n",
       "      <td>0</td>\n",
       "      <td>121.7</td>\n",
       "      <td>48</td>\n",
       "      <td>20.69</td>\n",
       "      <td>...</td>\n",
       "      <td>112</td>\n",
       "      <td>10.69</td>\n",
       "      <td>261.6</td>\n",
       "      <td>122</td>\n",
       "      <td>11.77</td>\n",
       "      <td>8.3</td>\n",
       "      <td>2</td>\n",
       "      <td>2.24</td>\n",
       "      <td>6</td>\n",
       "      <td>True</td>\n",
       "    </tr>\n",
       "    <tr>\n",
       "      <th>427</th>\n",
       "      <td>NH</td>\n",
       "      <td>67</td>\n",
       "      <td>415</td>\n",
       "      <td>355-1113</td>\n",
       "      <td>no</td>\n",
       "      <td>yes</td>\n",
       "      <td>40</td>\n",
       "      <td>104.9</td>\n",
       "      <td>65</td>\n",
       "      <td>17.83</td>\n",
       "      <td>...</td>\n",
       "      <td>93</td>\n",
       "      <td>18.39</td>\n",
       "      <td>217.4</td>\n",
       "      <td>128</td>\n",
       "      <td>9.78</td>\n",
       "      <td>9.6</td>\n",
       "      <td>9</td>\n",
       "      <td>2.59</td>\n",
       "      <td>1</td>\n",
       "      <td>False</td>\n",
       "    </tr>\n",
       "    <tr>\n",
       "      <th>664</th>\n",
       "      <td>ND</td>\n",
       "      <td>147</td>\n",
       "      <td>408</td>\n",
       "      <td>358-8729</td>\n",
       "      <td>no</td>\n",
       "      <td>no</td>\n",
       "      <td>0</td>\n",
       "      <td>205.3</td>\n",
       "      <td>95</td>\n",
       "      <td>34.90</td>\n",
       "      <td>...</td>\n",
       "      <td>128</td>\n",
       "      <td>14.17</td>\n",
       "      <td>240.6</td>\n",
       "      <td>84</td>\n",
       "      <td>10.83</td>\n",
       "      <td>7.8</td>\n",
       "      <td>4</td>\n",
       "      <td>2.11</td>\n",
       "      <td>1</td>\n",
       "      <td>False</td>\n",
       "    </tr>\n",
       "    <tr>\n",
       "      <th>796</th>\n",
       "      <td>AZ</td>\n",
       "      <td>113</td>\n",
       "      <td>415</td>\n",
       "      <td>346-8112</td>\n",
       "      <td>no</td>\n",
       "      <td>yes</td>\n",
       "      <td>32</td>\n",
       "      <td>180.4</td>\n",
       "      <td>89</td>\n",
       "      <td>30.67</td>\n",
       "      <td>...</td>\n",
       "      <td>124</td>\n",
       "      <td>11.00</td>\n",
       "      <td>166.9</td>\n",
       "      <td>124</td>\n",
       "      <td>7.51</td>\n",
       "      <td>8.4</td>\n",
       "      <td>2</td>\n",
       "      <td>2.27</td>\n",
       "      <td>1</td>\n",
       "      <td>False</td>\n",
       "    </tr>\n",
       "    <tr>\n",
       "      <th>1947</th>\n",
       "      <td>IL</td>\n",
       "      <td>76</td>\n",
       "      <td>510</td>\n",
       "      <td>400-8952</td>\n",
       "      <td>no</td>\n",
       "      <td>no</td>\n",
       "      <td>0</td>\n",
       "      <td>186.1</td>\n",
       "      <td>96</td>\n",
       "      <td>31.64</td>\n",
       "      <td>...</td>\n",
       "      <td>100</td>\n",
       "      <td>17.99</td>\n",
       "      <td>230.6</td>\n",
       "      <td>100</td>\n",
       "      <td>10.38</td>\n",
       "      <td>8.0</td>\n",
       "      <td>4</td>\n",
       "      <td>2.16</td>\n",
       "      <td>0</td>\n",
       "      <td>False</td>\n",
       "    </tr>\n",
       "  </tbody>\n",
       "</table>\n",
       "<p>5 rows × 21 columns</p>\n",
       "</div>"
      ],
      "text/plain": [
       "     state  account length  area code phone number international plan  \\\n",
       "1273    MT              28        415     357-9136                 no   \n",
       "427     NH              67        415     355-1113                 no   \n",
       "664     ND             147        408     358-8729                 no   \n",
       "796     AZ             113        415     346-8112                 no   \n",
       "1947    IL              76        510     400-8952                 no   \n",
       "\n",
       "     voice mail plan  number vmail messages  total day minutes  \\\n",
       "1273              no                      0              121.7   \n",
       "427              yes                     40              104.9   \n",
       "664               no                      0              205.3   \n",
       "796              yes                     32              180.4   \n",
       "1947              no                      0              186.1   \n",
       "\n",
       "      total day calls  total day charge  ...  total eve calls  \\\n",
       "1273               48             20.69  ...              112   \n",
       "427                65             17.83  ...               93   \n",
       "664                95             34.90  ...              128   \n",
       "796                89             30.67  ...              124   \n",
       "1947               96             31.64  ...              100   \n",
       "\n",
       "      total eve charge  total night minutes  total night calls  \\\n",
       "1273             10.69                261.6                122   \n",
       "427              18.39                217.4                128   \n",
       "664              14.17                240.6                 84   \n",
       "796              11.00                166.9                124   \n",
       "1947             17.99                230.6                100   \n",
       "\n",
       "      total night charge  total intl minutes  total intl calls  \\\n",
       "1273               11.77                 8.3                 2   \n",
       "427                 9.78                 9.6                 9   \n",
       "664                10.83                 7.8                 4   \n",
       "796                 7.51                 8.4                 2   \n",
       "1947               10.38                 8.0                 4   \n",
       "\n",
       "      total intl charge  customer service calls  churn  \n",
       "1273               2.24                       6   True  \n",
       "427                2.59                       1  False  \n",
       "664                2.11                       1  False  \n",
       "796                2.27                       1  False  \n",
       "1947               2.16                       0  False  \n",
       "\n",
       "[5 rows x 21 columns]"
      ]
     },
     "execution_count": 9,
     "metadata": {},
     "output_type": "execute_result"
    }
   ],
   "source": [
    "df.sample(5)"
   ]
  },
  {
   "cell_type": "markdown",
   "metadata": {},
   "source": [
    "- Upon initial inspection of the dataset, it's evident that we're dealing with a binary classification problem. A customer either churns (True) or not (False)"
   ]
  },
  {
   "cell_type": "code",
   "execution_count": 10,
   "metadata": {},
   "outputs": [
    {
     "data": {
      "text/plain": [
       "(3333, 21)"
      ]
     },
     "execution_count": 10,
     "metadata": {},
     "output_type": "execute_result"
    }
   ],
   "source": [
    "# Investigating the size of our DataFrame \n",
    "\n",
    "df.shape"
   ]
  },
  {
   "cell_type": "markdown",
   "metadata": {},
   "source": [
    "- The data set has a total of 3333 rows and 21 columns. "
   ]
  },
  {
   "cell_type": "code",
   "execution_count": 11,
   "metadata": {},
   "outputs": [
    {
     "name": "stdout",
     "output_type": "stream",
     "text": [
      "<class 'pandas.core.frame.DataFrame'>\n",
      "RangeIndex: 3333 entries, 0 to 3332\n",
      "Data columns (total 21 columns):\n",
      " #   Column                  Non-Null Count  Dtype  \n",
      "---  ------                  --------------  -----  \n",
      " 0   state                   3333 non-null   object \n",
      " 1   account length          3333 non-null   int64  \n",
      " 2   area code               3333 non-null   int64  \n",
      " 3   phone number            3333 non-null   object \n",
      " 4   international plan      3333 non-null   object \n",
      " 5   voice mail plan         3333 non-null   object \n",
      " 6   number vmail messages   3333 non-null   int64  \n",
      " 7   total day minutes       3333 non-null   float64\n",
      " 8   total day calls         3333 non-null   int64  \n",
      " 9   total day charge        3333 non-null   float64\n",
      " 10  total eve minutes       3333 non-null   float64\n",
      " 11  total eve calls         3333 non-null   int64  \n",
      " 12  total eve charge        3333 non-null   float64\n",
      " 13  total night minutes     3333 non-null   float64\n",
      " 14  total night calls       3333 non-null   int64  \n",
      " 15  total night charge      3333 non-null   float64\n",
      " 16  total intl minutes      3333 non-null   float64\n",
      " 17  total intl calls        3333 non-null   int64  \n",
      " 18  total intl charge       3333 non-null   float64\n",
      " 19  customer service calls  3333 non-null   int64  \n",
      " 20  churn                   3333 non-null   bool   \n",
      "dtypes: bool(1), float64(8), int64(8), object(4)\n",
      "memory usage: 524.2+ KB\n"
     ]
    }
   ],
   "source": [
    "# pulling out the metadata of our dataframe\n",
    "\n",
    "df.info()"
   ]
  },
  {
   "cell_type": "code",
   "execution_count": 12,
   "metadata": {},
   "outputs": [
    {
     "data": {
      "text/plain": [
       "Index(['state', 'account length', 'area code', 'phone number',\n",
       "       'international plan', 'voice mail plan', 'number vmail messages',\n",
       "       'total day minutes', 'total day calls', 'total day charge',\n",
       "       'total eve minutes', 'total eve calls', 'total eve charge',\n",
       "       'total night minutes', 'total night calls', 'total night charge',\n",
       "       'total intl minutes', 'total intl calls', 'total intl charge',\n",
       "       'customer service calls', 'churn'],\n",
       "      dtype='object')"
      ]
     },
     "execution_count": 12,
     "metadata": {},
     "output_type": "execute_result"
    }
   ],
   "source": [
    "# Investigate the columns of our data set\n",
    "\n",
    "df.columns"
   ]
  },
  {
   "cell_type": "markdown",
   "metadata": {},
   "source": [
    "Further investigation reveals that some of the column names are serialized/anonymized which is consistent with the data set description obtained from [Kaggle](https://www.kaggle.com/code/janiobachmann/credit-fraud-dealing-with-imbalanced-datasets/input). This may be result of a PCA Dimensionality reduction to protect user identities and sensitive features(v1-v28)"
   ]
  },
  {
   "cell_type": "code",
   "execution_count": null,
   "metadata": {},
   "outputs": [],
   "source": []
  },
  {
   "cell_type": "markdown",
   "metadata": {},
   "source": [
    "This simple visualization provides a quick glance of the distribution of null values within the data set. There are `zero null values` in the dataset!"
   ]
  },
  {
   "cell_type": "markdown",
   "metadata": {},
   "source": [
    "### `Exploratory Data Analysis`"
   ]
  },
  {
   "cell_type": "markdown",
   "metadata": {},
   "source": [
    "#### `Visualizing Class Imbalance`"
   ]
  },
  {
   "cell_type": "markdown",
   "metadata": {},
   "source": [
    "Given the nature of this classification problem, it's essential to assess the level of class imbalance within our dataset. Visualizing the distribution of class labels enables us to identify any imbalance and take proactive steps to address it before proceeding with the training of our Machine Learning models. This proactive approach ensures that our models are trained on a balanced dataset, which is crucial for achieving optimal performance and generalization capabilities."
   ]
  },
  {
   "cell_type": "code",
   "execution_count": 16,
   "metadata": {},
   "outputs": [
    {
     "name": "stdout",
     "output_type": "stream",
     "text": [
      "Non-Fraudulent Transactions: 2,850 (85.51%)\n",
      "Fraudulent Transactions: 483 (14.49%)\n"
     ]
    }
   ],
   "source": [
    "# Count and normalize non-fraudulent transactions\n",
    "non_fraud_count = df['churn'].value_counts()[0]\n",
    "non_fraud_percentage = df['churn'].value_counts(normalize=True)[0]\n",
    "\n",
    "# Count and normalize fraudulent transactions\n",
    "fraud_count = df['churn'].value_counts()[1]\n",
    "fraud_percentage = df['churn'].value_counts(normalize=True)[1]\n",
    "\n",
    "# Render the results\n",
    "print(\"Non-Fraudulent Transactions: {:,} ({:.2%})\".format(non_fraud_count, non_fraud_percentage))\n",
    "print(\"Fraudulent Transactions: {:,} ({:.2%})\".format(fraud_count, fraud_percentage))\n"
   ]
  },
  {
   "cell_type": "code",
   "execution_count": 18,
   "metadata": {},
   "outputs": [
    {
     "data": {
      "image/png": "[encoded data removed]",
      "text/plain": [
       "<Figure size 864x432 with 2 Axes>"
      ]
     },
     "metadata": {
      "needs_background": "light"
     },
     "output_type": "display_data"
    }
   ],
   "source": [
    "\n",
    "# custom colors for the plot\n",
    "colors = ['#336699', '#000000'] \n",
    "\n",
    "# Create subplots with two plots side by side\n",
    "fig, axs = plt.subplots(1, 2, figsize=(12, 6))\n",
    "\n",
    "# Plot countplot\n",
    "sns.countplot('churn', data=df, palette=colors, ax=axs[0])\n",
    "axs[0].set_title('churn Distribution (Countplot)')\n",
    "\n",
    "# Plot pie chart\n",
    "class_counts = df['churn'].value_counts()\n",
    "axs[1].pie(class_counts, labels=class_counts.index, autopct='%1.2f%%', colors=colors, startangle=90)\n",
    "axs[1].set_title('churn Distribution (Pie Chart)')\n",
    "\n",
    "plt.tight_layout()\n",
    "plt.show()\n"
   ]
  },
  {
   "cell_type": "markdown",
   "metadata": {},
   "source": [
    "The dataset exhibits heavy class imbalance, with an overwhelming majority of transactions, specifically 99.85%, categorized as non-fraudulent. This stark skew towards one class, while common in real-world scenarios, presents a significant challenge for our machine learning algorithms. It underscores the need for robust strategies to handle such class imbalances to ensure that our models are effectively trained to detect the minority class (fraudulent transactions) with sufficient accuracy and precision. Addressing this class imbalance is paramount to the success of our fraud detection system, as failure to do so may lead to biased or inadequate model performance, potentially compromising the system's ability to detect fraudulent activities effectively."
   ]
  },
  {
   "cell_type": "code",
   "execution_count": 18,
   "metadata": {},
   "outputs": [
    {
     "data": {
      "text/plain": [
       "(1.0, 172792.0)"
      ]
     },
     "execution_count": 18,
     "metadata": {},
     "output_type": "execute_result"
    },
    {
     "data": {
      "image/png": "[encoded data removed]",
      "text/plain": [
       "<Figure size 1296x288 with 2 Axes>"
      ]
     },
     "metadata": {
      "needs_background": "light"
     },
     "output_type": "display_data"
    }
   ],
   "source": [
    "fig, ax = plt.subplots(1, 2, figsize=(18,4))\n",
    "\n",
    "amount_val = df['Amount'].values\n",
    "time_val = df['Time'].values\n",
    "\n",
    "sns.distplot(amount_val, ax=ax[0], color='r')\n",
    "ax[0].set_title('Distribution of Transaction Amount', fontsize=14)\n",
    "ax[0].set_xlim([min(amount_val), max(amount_val)])\n",
    "\n",
    "sns.distplot(time_val, ax=ax[1], color='b')\n",
    "ax[1].set_title('Distribution of Transaction Time', fontsize=14)\n",
    "ax[1].set_xlim([min(time_val), max(time_val)])"
   ]
  },
  {
   "cell_type": "markdown",
   "metadata": {},
   "source": [
    "\n",
    "The plots above provide insightful visualizations of the distribution of transaction amount and transaction time within the dataset. Understanding these distributions is crucial for detecting anomalous or fraudulent transactions, as they can help identify patterns and deviations from normal behavior.\n",
    "\n",
    "The histogram of transaction amounts reveals a right-skewed distribution, indicating that the majority of transactions involve smaller amounts, with a long tail of larger transactions. This distribution is expected in financial transactions, where most transactions are small, everyday purchases, but occasional larger transactions may occur for significant purchases or transfers.\n",
    "\n",
    "On the other hand, the distribution of transaction times appears to have no clear pattern or trend over time. This uniform distribution suggests that transactions are evenly distributed throughout the day, without significant peaks or troughs in activity. "
   ]
  },
  {
   "cell_type": "markdown",
   "metadata": {},
   "source": [
    "## Data Preprocessing"
   ]
  },
  {
   "cell_type": "markdown",
   "metadata": {},
   "source": [
    "In this critical data preprocessing section, we refine the dataset to optimize it for machine learning model training. Tasks include:\n",
    "\n",
    "- Feature Selection: Identifying informative features while discarding irrelevant ones to enhance model performance and interpretability. Techniques like ANOVA and correlation analysis aid in this process.\n",
    "- Data Scaling/Normalization: Ensuring numerical features are on a similar scale to prevent dominance by larger-magnitude features. Methods like Min-Max scaling and Z-score normalization facilitate better model convergence.\n",
    "- Data Augmentation: Generating synthetic data points, such as through SMOTE, to address class imbalance and enhance model generalization."
   ]
  },
  {
   "cell_type": "markdown",
   "metadata": {},
   "source": [
    "### **`Feature Selection`**"
   ]
  },
  {
   "cell_type": "markdown",
   "metadata": {},
   "source": [
    "- Given the anonymized nature of the features, relying on domain knowledge for feature selection is unfeasible. Instead, statistical tests such as ANOVA are paramount for identifying the most discriminative features for our modeling process. These tests serve as the primary means to gauge the significance of each feature in relation to the target variable, allowing us to prioritize the inclusion of those features that exhibit the strongest association with the outcome of interest."
   ]
  },
  {
   "cell_type": "markdown",
   "metadata": {},
   "source": [
    "#### ANOVA TEST (using Sklearn Library)"
   ]
  },
  {
   "cell_type": "code",
   "execution_count": 19,
   "metadata": {},
   "outputs": [
    {
     "name": "stdout",
     "output_type": "stream",
     "text": [
      "Selected Features: Index(['V1', 'V3', 'V4', 'V7', 'V10', 'V11', 'V12', 'V14', 'V16', 'V17'], dtype='object')\n"
     ]
    }
   ],
   "source": [
    "from sklearn.feature_selection import SelectKBest, f_classif\n",
    "\n",
    "# Separate features (X) and target variable (y)\n",
    "X = df.drop(columns=['Class'])  # Features\n",
    "y = df['Class']  # Target variable\n",
    "\n",
    "# Initialize SelectKBest with f_classif scoring function\n",
    "selector = SelectKBest(score_func=f_classif)\n",
    "\n",
    "# Fit selector to the data\n",
    "selector.fit(X, y)\n",
    "\n",
    "# Get selected features\n",
    "selected_features = X.columns[selector.get_support()]\n",
    "\n",
    "# Print selected features\n",
    "print(\"Selected Features:\", selected_features)\n"
   ]
  },
  {
   "cell_type": "markdown",
   "metadata": {},
   "source": [
    "Based on ANOVA F-values, the following features ['V1', 'V3', 'V4', 'V7', 'V10', 'V11', 'V12', 'V14', 'V16', 'V17'] will be prioritized in the modeling phase"
   ]
  },
  {
   "cell_type": "markdown",
   "metadata": {},
   "source": [
    "### **`Data Balancing (SMOTE)`**"
   ]
  },
  {
   "cell_type": "markdown",
   "metadata": {},
   "source": [
    "To address the class-imbalance issue, Synthetic Minority Over-sampling Technique (SMOTE), a popular data augmentation method will be employed. SMOTE works by generating synthetic samples in the feature space of the minority class (Fraud Case), thereby reducing class imbalance and improving model performance. In this section, we explore the application of SMOTE to rebalance our dataset, ensuring that our machine learning models are trained on a more representative and equitable distribution of class instances."
   ]
  },
  {
   "cell_type": "code",
   "execution_count": 20,
   "metadata": {},
   "outputs": [],
   "source": [
    "# Redifine X, y using the Selected Features\n",
    "selected_features = ['V1', 'V3', 'V4', 'V7', 'V10', 'V11', 'V12', 'V14', 'V16', 'V17']\n",
    "X = df[selected_features]\n",
    "y = df['Class']\n",
    "\n",
    "# 1. Perform Train-Test Split\n",
    "X_train, X_test, y_train, y_test = train_test_split(X, y, test_size=0.2, random_state=42)\n",
    "\n",
    "# 2. Perform SMOTE (only on training data)\n",
    "smote = SMOTE(random_state=42)\n",
    "X_train_resampled, y_train_resampled = smote.fit_resample(X_train, y_train)\n",
    "\n",
    "# 3. Normalize Numeric Columns (separately for training and testing sets)\n",
    "scaler = StandardScaler()\n",
    "X_train_resampled_normalized = scaler.fit_transform(X_train_resampled)\n",
    "X_test_normalized = scaler.transform(X_test)\n"
   ]
  },
  {
   "cell_type": "code",
   "execution_count": 21,
   "metadata": {},
   "outputs": [
    {
     "data": {
      "image/png": "[encoded data removed]",
      "text/plain": [
       "<Figure size 576x432 with 1 Axes>"
      ]
     },
     "metadata": {
      "needs_background": "light"
     },
     "output_type": "display_data"
    }
   ],
   "source": [
    "# Plot the class balance after SMOTE\n",
    "plt.figure(figsize=(8, 6))\n",
    "plt.bar(y_train_resampled.value_counts().index, y_train_resampled.value_counts().values, color=['blue', 'red'])\n",
    "plt.xlabel('Class')\n",
    "plt.ylabel('Count')\n",
    "plt.title('Class Balance After SMOTE')\n",
    "plt.xticks([0, 1], ['Non-Fraudulent', 'Fraudulent'])\n",
    "plt.show()\n"
   ]
  },
  {
   "cell_type": "code",
   "execution_count": 22,
   "metadata": {},
   "outputs": [],
   "source": [
    "# Keeping it simple with the variable names:assign the transformed variables to the simpler variable names \n",
    "\n",
    "X_train = X_train_resampled_normalized\n",
    "y_train = y_train_resampled"
   ]
  },
  {
   "cell_type": "code",
   "execution_count": 23,
   "metadata": {},
   "outputs": [
    {
     "data": {
      "text/html": [
       "<div>\n",
       "<style scoped>\n",
       "    .dataframe tbody tr th:only-of-type {\n",
       "        vertical-align: middle;\n",
       "    }\n",
       "\n",
       "    .dataframe tbody tr th {\n",
       "        vertical-align: top;\n",
       "    }\n",
       "\n",
       "    .dataframe thead th {\n",
       "        text-align: right;\n",
       "    }\n",
       "</style>\n",
       "<table border=\"1\" class=\"dataframe\">\n",
       "  <thead>\n",
       "    <tr style=\"text-align: right;\">\n",
       "      <th></th>\n",
       "      <th>V1</th>\n",
       "      <th>V3</th>\n",
       "      <th>V4</th>\n",
       "      <th>V7</th>\n",
       "      <th>V10</th>\n",
       "      <th>V11</th>\n",
       "      <th>V12</th>\n",
       "      <th>V14</th>\n",
       "      <th>V16</th>\n",
       "      <th>V17</th>\n",
       "    </tr>\n",
       "  </thead>\n",
       "  <tbody>\n",
       "    <tr>\n",
       "      <th>0</th>\n",
       "      <td>0.667232</td>\n",
       "      <td>0.694711</td>\n",
       "      <td>-0.599871</td>\n",
       "      <td>0.383210</td>\n",
       "      <td>0.587429</td>\n",
       "      <td>-0.221333</td>\n",
       "      <td>0.909831</td>\n",
       "      <td>0.742252</td>\n",
       "      <td>0.527955</td>\n",
       "      <td>0.534881</td>\n",
       "    </tr>\n",
       "    <tr>\n",
       "      <th>1</th>\n",
       "      <td>0.673757</td>\n",
       "      <td>0.678957</td>\n",
       "      <td>-0.721152</td>\n",
       "      <td>0.361066</td>\n",
       "      <td>0.622613</td>\n",
       "      <td>-0.221508</td>\n",
       "      <td>0.840697</td>\n",
       "      <td>0.782518</td>\n",
       "      <td>0.821741</td>\n",
       "      <td>0.386532</td>\n",
       "    </tr>\n",
       "    <tr>\n",
       "      <th>2</th>\n",
       "      <td>0.688301</td>\n",
       "      <td>0.601192</td>\n",
       "      <td>-0.784756</td>\n",
       "      <td>0.434939</td>\n",
       "      <td>0.612672</td>\n",
       "      <td>-0.196851</td>\n",
       "      <td>0.834052</td>\n",
       "      <td>0.846236</td>\n",
       "      <td>0.730914</td>\n",
       "      <td>0.421150</td>\n",
       "    </tr>\n",
       "    <tr>\n",
       "      <th>3</th>\n",
       "      <td>0.159065</td>\n",
       "      <td>0.841773</td>\n",
       "      <td>-0.720501</td>\n",
       "      <td>0.595280</td>\n",
       "      <td>0.764547</td>\n",
       "      <td>-0.555184</td>\n",
       "      <td>0.767820</td>\n",
       "      <td>0.702692</td>\n",
       "      <td>0.559994</td>\n",
       "      <td>0.487438</td>\n",
       "    </tr>\n",
       "    <tr>\n",
       "      <th>4</th>\n",
       "      <td>0.609707</td>\n",
       "      <td>0.788635</td>\n",
       "      <td>-0.357917</td>\n",
       "      <td>0.255905</td>\n",
       "      <td>0.561143</td>\n",
       "      <td>0.090960</td>\n",
       "      <td>1.069445</td>\n",
       "      <td>0.710418</td>\n",
       "      <td>0.261819</td>\n",
       "      <td>0.659568</td>\n",
       "    </tr>\n",
       "    <tr>\n",
       "      <th>...</th>\n",
       "      <td>...</td>\n",
       "      <td>...</td>\n",
       "      <td>...</td>\n",
       "      <td>...</td>\n",
       "      <td>...</td>\n",
       "      <td>...</td>\n",
       "      <td>...</td>\n",
       "      <td>...</td>\n",
       "      <td>...</td>\n",
       "      <td>...</td>\n",
       "    </tr>\n",
       "    <tr>\n",
       "      <th>127799</th>\n",
       "      <td>-1.997590</td>\n",
       "      <td>-2.270153</td>\n",
       "      <td>2.247077</td>\n",
       "      <td>-2.360462</td>\n",
       "      <td>-2.812341</td>\n",
       "      <td>2.073996</td>\n",
       "      <td>-3.054956</td>\n",
       "      <td>-1.986611</td>\n",
       "      <td>-2.996806</td>\n",
       "      <td>-2.816328</td>\n",
       "    </tr>\n",
       "    <tr>\n",
       "      <th>127800</th>\n",
       "      <td>-1.672370</td>\n",
       "      <td>-1.825430</td>\n",
       "      <td>0.734526</td>\n",
       "      <td>-1.169686</td>\n",
       "      <td>-0.879049</td>\n",
       "      <td>0.408849</td>\n",
       "      <td>-0.788556</td>\n",
       "      <td>-0.885321</td>\n",
       "      <td>-0.703679</td>\n",
       "      <td>-0.757038</td>\n",
       "    </tr>\n",
       "    <tr>\n",
       "      <th>127801</th>\n",
       "      <td>0.081782</td>\n",
       "      <td>-0.111496</td>\n",
       "      <td>-0.704665</td>\n",
       "      <td>0.275929</td>\n",
       "      <td>-0.152055</td>\n",
       "      <td>0.013463</td>\n",
       "      <td>-0.130939</td>\n",
       "      <td>-0.487627</td>\n",
       "      <td>-0.652290</td>\n",
       "      <td>-0.073122</td>\n",
       "    </tr>\n",
       "    <tr>\n",
       "      <th>127802</th>\n",
       "      <td>-0.072088</td>\n",
       "      <td>0.098077</td>\n",
       "      <td>-0.049669</td>\n",
       "      <td>0.286397</td>\n",
       "      <td>0.114495</td>\n",
       "      <td>0.148527</td>\n",
       "      <td>-0.046545</td>\n",
       "      <td>-0.614007</td>\n",
       "      <td>-0.229839</td>\n",
       "      <td>-0.219149</td>\n",
       "    </tr>\n",
       "    <tr>\n",
       "      <th>127803</th>\n",
       "      <td>0.331030</td>\n",
       "      <td>0.008108</td>\n",
       "      <td>-0.793652</td>\n",
       "      <td>1.248078</td>\n",
       "      <td>0.068721</td>\n",
       "      <td>-0.831477</td>\n",
       "      <td>0.506576</td>\n",
       "      <td>0.196824</td>\n",
       "      <td>0.617796</td>\n",
       "      <td>0.854046</td>\n",
       "    </tr>\n",
       "  </tbody>\n",
       "</table>\n",
       "<p>127804 rows × 10 columns</p>\n",
       "</div>"
      ],
      "text/plain": [
       "              V1        V3        V4        V7       V10       V11       V12  \\\n",
       "0       0.667232  0.694711 -0.599871  0.383210  0.587429 -0.221333  0.909831   \n",
       "1       0.673757  0.678957 -0.721152  0.361066  0.622613 -0.221508  0.840697   \n",
       "2       0.688301  0.601192 -0.784756  0.434939  0.612672 -0.196851  0.834052   \n",
       "3       0.159065  0.841773 -0.720501  0.595280  0.764547 -0.555184  0.767820   \n",
       "4       0.609707  0.788635 -0.357917  0.255905  0.561143  0.090960  1.069445   \n",
       "...          ...       ...       ...       ...       ...       ...       ...   \n",
       "127799 -1.997590 -2.270153  2.247077 -2.360462 -2.812341  2.073996 -3.054956   \n",
       "127800 -1.672370 -1.825430  0.734526 -1.169686 -0.879049  0.408849 -0.788556   \n",
       "127801  0.081782 -0.111496 -0.704665  0.275929 -0.152055  0.013463 -0.130939   \n",
       "127802 -0.072088  0.098077 -0.049669  0.286397  0.114495  0.148527 -0.046545   \n",
       "127803  0.331030  0.008108 -0.793652  1.248078  0.068721 -0.831477  0.506576   \n",
       "\n",
       "             V14       V16       V17  \n",
       "0       0.742252  0.527955  0.534881  \n",
       "1       0.782518  0.821741  0.386532  \n",
       "2       0.846236  0.730914  0.421150  \n",
       "3       0.702692  0.559994  0.487438  \n",
       "4       0.710418  0.261819  0.659568  \n",
       "...          ...       ...       ...  \n",
       "127799 -1.986611 -2.996806 -2.816328  \n",
       "127800 -0.885321 -0.703679 -0.757038  \n",
       "127801 -0.487627 -0.652290 -0.073122  \n",
       "127802 -0.614007 -0.229839 -0.219149  \n",
       "127803  0.196824  0.617796  0.854046  \n",
       "\n",
       "[127804 rows x 10 columns]"
      ]
     },
     "execution_count": 23,
     "metadata": {},
     "output_type": "execute_result"
    }
   ],
   "source": [
    "#Converting X_train array into DataFrame to visualize transformation\n",
    "\n",
    "X_train_df = pd.DataFrame(X_train, columns =selected_features)\n",
    "X_train_df\n"
   ]
  },
  {
   "cell_type": "code",
   "execution_count": 24,
   "metadata": {},
   "outputs": [
    {
     "data": {
      "text/html": [
       "<div>\n",
       "<style scoped>\n",
       "    .dataframe tbody tr th:only-of-type {\n",
       "        vertical-align: middle;\n",
       "    }\n",
       "\n",
       "    .dataframe tbody tr th {\n",
       "        vertical-align: top;\n",
       "    }\n",
       "\n",
       "    .dataframe thead th {\n",
       "        text-align: right;\n",
       "    }\n",
       "</style>\n",
       "<table border=\"1\" class=\"dataframe\">\n",
       "  <thead>\n",
       "    <tr style=\"text-align: right;\">\n",
       "      <th></th>\n",
       "      <th>Class</th>\n",
       "    </tr>\n",
       "  </thead>\n",
       "  <tbody>\n",
       "    <tr>\n",
       "      <th>0</th>\n",
       "      <td>0</td>\n",
       "    </tr>\n",
       "    <tr>\n",
       "      <th>1</th>\n",
       "      <td>0</td>\n",
       "    </tr>\n",
       "    <tr>\n",
       "      <th>2</th>\n",
       "      <td>0</td>\n",
       "    </tr>\n",
       "    <tr>\n",
       "      <th>3</th>\n",
       "      <td>0</td>\n",
       "    </tr>\n",
       "    <tr>\n",
       "      <th>4</th>\n",
       "      <td>0</td>\n",
       "    </tr>\n",
       "    <tr>\n",
       "      <th>...</th>\n",
       "      <td>...</td>\n",
       "    </tr>\n",
       "    <tr>\n",
       "      <th>127799</th>\n",
       "      <td>1</td>\n",
       "    </tr>\n",
       "    <tr>\n",
       "      <th>127800</th>\n",
       "      <td>1</td>\n",
       "    </tr>\n",
       "    <tr>\n",
       "      <th>127801</th>\n",
       "      <td>1</td>\n",
       "    </tr>\n",
       "    <tr>\n",
       "      <th>127802</th>\n",
       "      <td>1</td>\n",
       "    </tr>\n",
       "    <tr>\n",
       "      <th>127803</th>\n",
       "      <td>1</td>\n",
       "    </tr>\n",
       "  </tbody>\n",
       "</table>\n",
       "<p>127804 rows × 1 columns</p>\n",
       "</div>"
      ],
      "text/plain": [
       "        Class\n",
       "0           0\n",
       "1           0\n",
       "2           0\n",
       "3           0\n",
       "4           0\n",
       "...       ...\n",
       "127799      1\n",
       "127800      1\n",
       "127801      1\n",
       "127802      1\n",
       "127803      1\n",
       "\n",
       "[127804 rows x 1 columns]"
      ]
     },
     "execution_count": 24,
     "metadata": {},
     "output_type": "execute_result"
    }
   ],
   "source": [
    "y_train_df = pd.DataFrame(y_train, columns= ['Class'])\n",
    "y_train_df"
   ]
  },
  {
   "cell_type": "markdown",
   "metadata": {},
   "source": [
    "Following synthetic oversampling of the minority class, our dataset has notably expanded in size. Specifically, the training set now comprises a total of 127,804 records."
   ]
  },
  {
   "cell_type": "code",
   "execution_count": 25,
   "metadata": {},
   "outputs": [
    {
     "data": {
      "text/html": [
       "<div>\n",
       "<style scoped>\n",
       "    .dataframe tbody tr th:only-of-type {\n",
       "        vertical-align: middle;\n",
       "    }\n",
       "\n",
       "    .dataframe tbody tr th {\n",
       "        vertical-align: top;\n",
       "    }\n",
       "\n",
       "    .dataframe thead th {\n",
       "        text-align: right;\n",
       "    }\n",
       "</style>\n",
       "<table border=\"1\" class=\"dataframe\">\n",
       "  <thead>\n",
       "    <tr style=\"text-align: right;\">\n",
       "      <th></th>\n",
       "      <th>V1</th>\n",
       "      <th>V3</th>\n",
       "      <th>V4</th>\n",
       "      <th>V7</th>\n",
       "      <th>V10</th>\n",
       "      <th>V11</th>\n",
       "      <th>V12</th>\n",
       "      <th>V14</th>\n",
       "      <th>V16</th>\n",
       "      <th>V17</th>\n",
       "    </tr>\n",
       "  </thead>\n",
       "  <tbody>\n",
       "    <tr>\n",
       "      <th>0</th>\n",
       "      <td>-0.991517</td>\n",
       "      <td>0.272823</td>\n",
       "      <td>-0.503334</td>\n",
       "      <td>0.307697</td>\n",
       "      <td>0.711695</td>\n",
       "      <td>-0.397313</td>\n",
       "      <td>0.828863</td>\n",
       "      <td>0.847083</td>\n",
       "      <td>0.690881</td>\n",
       "      <td>0.577821</td>\n",
       "    </tr>\n",
       "    <tr>\n",
       "      <th>1</th>\n",
       "      <td>0.022268</td>\n",
       "      <td>0.511424</td>\n",
       "      <td>-0.808216</td>\n",
       "      <td>0.547971</td>\n",
       "      <td>0.329422</td>\n",
       "      <td>-0.890381</td>\n",
       "      <td>0.652807</td>\n",
       "      <td>0.664457</td>\n",
       "      <td>0.607781</td>\n",
       "      <td>0.708640</td>\n",
       "    </tr>\n",
       "    <tr>\n",
       "      <th>2</th>\n",
       "      <td>0.731258</td>\n",
       "      <td>0.613659</td>\n",
       "      <td>-1.178104</td>\n",
       "      <td>0.332331</td>\n",
       "      <td>1.006451</td>\n",
       "      <td>-0.005756</td>\n",
       "      <td>0.770114</td>\n",
       "      <td>0.720421</td>\n",
       "      <td>0.424992</td>\n",
       "      <td>0.606100</td>\n",
       "    </tr>\n",
       "    <tr>\n",
       "      <th>3</th>\n",
       "      <td>0.214084</td>\n",
       "      <td>0.136233</td>\n",
       "      <td>-0.302092</td>\n",
       "      <td>0.653493</td>\n",
       "      <td>0.441159</td>\n",
       "      <td>-0.281938</td>\n",
       "      <td>0.922046</td>\n",
       "      <td>0.866220</td>\n",
       "      <td>0.567814</td>\n",
       "      <td>0.483932</td>\n",
       "    </tr>\n",
       "    <tr>\n",
       "      <th>4</th>\n",
       "      <td>0.918022</td>\n",
       "      <td>0.337940</td>\n",
       "      <td>-1.245766</td>\n",
       "      <td>0.218371</td>\n",
       "      <td>1.017064</td>\n",
       "      <td>-1.249898</td>\n",
       "      <td>0.242934</td>\n",
       "      <td>0.714565</td>\n",
       "      <td>0.437519</td>\n",
       "      <td>0.622962</td>\n",
       "    </tr>\n",
       "    <tr>\n",
       "      <th>...</th>\n",
       "      <td>...</td>\n",
       "      <td>...</td>\n",
       "      <td>...</td>\n",
       "      <td>...</td>\n",
       "      <td>...</td>\n",
       "      <td>...</td>\n",
       "      <td>...</td>\n",
       "      <td>...</td>\n",
       "      <td>...</td>\n",
       "      <td>...</td>\n",
       "    </tr>\n",
       "    <tr>\n",
       "      <th>15995</th>\n",
       "      <td>0.621901</td>\n",
       "      <td>0.690377</td>\n",
       "      <td>-0.763302</td>\n",
       "      <td>0.321621</td>\n",
       "      <td>0.587654</td>\n",
       "      <td>-0.201210</td>\n",
       "      <td>0.723402</td>\n",
       "      <td>0.830088</td>\n",
       "      <td>0.792696</td>\n",
       "      <td>0.442931</td>\n",
       "    </tr>\n",
       "    <tr>\n",
       "      <th>15996</th>\n",
       "      <td>0.676894</td>\n",
       "      <td>0.659861</td>\n",
       "      <td>-0.296484</td>\n",
       "      <td>0.457842</td>\n",
       "      <td>0.569298</td>\n",
       "      <td>-1.012327</td>\n",
       "      <td>0.896872</td>\n",
       "      <td>0.662341</td>\n",
       "      <td>0.510581</td>\n",
       "      <td>0.476803</td>\n",
       "    </tr>\n",
       "    <tr>\n",
       "      <th>15997</th>\n",
       "      <td>0.035063</td>\n",
       "      <td>0.979207</td>\n",
       "      <td>-0.265805</td>\n",
       "      <td>0.685564</td>\n",
       "      <td>0.650173</td>\n",
       "      <td>0.100788</td>\n",
       "      <td>0.880837</td>\n",
       "      <td>0.680242</td>\n",
       "      <td>0.565811</td>\n",
       "      <td>0.465969</td>\n",
       "    </tr>\n",
       "    <tr>\n",
       "      <th>15998</th>\n",
       "      <td>0.879462</td>\n",
       "      <td>0.402976</td>\n",
       "      <td>-1.082006</td>\n",
       "      <td>0.213376</td>\n",
       "      <td>0.840317</td>\n",
       "      <td>-0.541526</td>\n",
       "      <td>0.619294</td>\n",
       "      <td>0.673471</td>\n",
       "      <td>1.040876</td>\n",
       "      <td>0.480165</td>\n",
       "    </tr>\n",
       "    <tr>\n",
       "      <th>15999</th>\n",
       "      <td>0.200322</td>\n",
       "      <td>0.530156</td>\n",
       "      <td>-1.003860</td>\n",
       "      <td>0.591203</td>\n",
       "      <td>0.463534</td>\n",
       "      <td>-0.408391</td>\n",
       "      <td>0.683118</td>\n",
       "      <td>1.027523</td>\n",
       "      <td>0.568274</td>\n",
       "      <td>0.471021</td>\n",
       "    </tr>\n",
       "  </tbody>\n",
       "</table>\n",
       "<p>16000 rows × 10 columns</p>\n",
       "</div>"
      ],
      "text/plain": [
       "             V1        V3        V4        V7       V10       V11       V12  \\\n",
       "0     -0.991517  0.272823 -0.503334  0.307697  0.711695 -0.397313  0.828863   \n",
       "1      0.022268  0.511424 -0.808216  0.547971  0.329422 -0.890381  0.652807   \n",
       "2      0.731258  0.613659 -1.178104  0.332331  1.006451 -0.005756  0.770114   \n",
       "3      0.214084  0.136233 -0.302092  0.653493  0.441159 -0.281938  0.922046   \n",
       "4      0.918022  0.337940 -1.245766  0.218371  1.017064 -1.249898  0.242934   \n",
       "...         ...       ...       ...       ...       ...       ...       ...   \n",
       "15995  0.621901  0.690377 -0.763302  0.321621  0.587654 -0.201210  0.723402   \n",
       "15996  0.676894  0.659861 -0.296484  0.457842  0.569298 -1.012327  0.896872   \n",
       "15997  0.035063  0.979207 -0.265805  0.685564  0.650173  0.100788  0.880837   \n",
       "15998  0.879462  0.402976 -1.082006  0.213376  0.840317 -0.541526  0.619294   \n",
       "15999  0.200322  0.530156 -1.003860  0.591203  0.463534 -0.408391  0.683118   \n",
       "\n",
       "            V14       V16       V17  \n",
       "0      0.847083  0.690881  0.577821  \n",
       "1      0.664457  0.607781  0.708640  \n",
       "2      0.720421  0.424992  0.606100  \n",
       "3      0.866220  0.567814  0.483932  \n",
       "4      0.714565  0.437519  0.622962  \n",
       "...         ...       ...       ...  \n",
       "15995  0.830088  0.792696  0.442931  \n",
       "15996  0.662341  0.510581  0.476803  \n",
       "15997  0.680242  0.565811  0.465969  \n",
       "15998  0.673471  1.040876  0.480165  \n",
       "15999  1.027523  0.568274  0.471021  \n",
       "\n",
       "[16000 rows x 10 columns]"
      ]
     },
     "execution_count": 25,
     "metadata": {},
     "output_type": "execute_result"
    }
   ],
   "source": [
    "X_test = X_test_normalized\n",
    "X_test_df= pd.DataFrame(X_test, columns= selected_features)\n",
    "X_test_df"
   ]
  },
  {
   "cell_type": "code",
   "execution_count": 26,
   "metadata": {},
   "outputs": [
    {
     "data": {
      "text/html": [
       "<div>\n",
       "<style scoped>\n",
       "    .dataframe tbody tr th:only-of-type {\n",
       "        vertical-align: middle;\n",
       "    }\n",
       "\n",
       "    .dataframe tbody tr th {\n",
       "        vertical-align: top;\n",
       "    }\n",
       "\n",
       "    .dataframe thead th {\n",
       "        text-align: right;\n",
       "    }\n",
       "</style>\n",
       "<table border=\"1\" class=\"dataframe\">\n",
       "  <thead>\n",
       "    <tr style=\"text-align: right;\">\n",
       "      <th></th>\n",
       "      <th>Class</th>\n",
       "    </tr>\n",
       "  </thead>\n",
       "  <tbody>\n",
       "    <tr>\n",
       "      <th>219224</th>\n",
       "      <td>0</td>\n",
       "    </tr>\n",
       "    <tr>\n",
       "      <th>224583</th>\n",
       "      <td>0</td>\n",
       "    </tr>\n",
       "    <tr>\n",
       "      <th>18105</th>\n",
       "      <td>0</td>\n",
       "    </tr>\n",
       "    <tr>\n",
       "      <th>262435</th>\n",
       "      <td>0</td>\n",
       "    </tr>\n",
       "    <tr>\n",
       "      <th>238985</th>\n",
       "      <td>0</td>\n",
       "    </tr>\n",
       "    <tr>\n",
       "      <th>...</th>\n",
       "      <td>...</td>\n",
       "    </tr>\n",
       "    <tr>\n",
       "      <th>40136</th>\n",
       "      <td>0</td>\n",
       "    </tr>\n",
       "    <tr>\n",
       "      <th>19272</th>\n",
       "      <td>0</td>\n",
       "    </tr>\n",
       "    <tr>\n",
       "      <th>125359</th>\n",
       "      <td>0</td>\n",
       "    </tr>\n",
       "    <tr>\n",
       "      <th>249126</th>\n",
       "      <td>0</td>\n",
       "    </tr>\n",
       "    <tr>\n",
       "      <th>242555</th>\n",
       "      <td>0</td>\n",
       "    </tr>\n",
       "  </tbody>\n",
       "</table>\n",
       "<p>16000 rows × 1 columns</p>\n",
       "</div>"
      ],
      "text/plain": [
       "        Class\n",
       "219224      0\n",
       "224583      0\n",
       "18105       0\n",
       "262435      0\n",
       "238985      0\n",
       "...       ...\n",
       "40136       0\n",
       "19272       0\n",
       "125359      0\n",
       "249126      0\n",
       "242555      0\n",
       "\n",
       "[16000 rows x 1 columns]"
      ]
     },
     "execution_count": 26,
     "metadata": {},
     "output_type": "execute_result"
    }
   ],
   "source": [
    "y_test_df = pd.DataFrame(y_test, columns= ['Class'])\n",
    "y_test_df"
   ]
  },
  {
   "cell_type": "markdown",
   "metadata": {},
   "source": [
    "- The training test corresponds to 20% of the original dataset (16,000 records) in size, this was specified furing the train-test split under the test-size parameter"
   ]
  },
  {
   "cell_type": "markdown",
   "metadata": {},
   "source": [
    "## Modeling"
   ]
  },
  {
   "cell_type": "markdown",
   "metadata": {},
   "source": [
    "In this modeling phase, we apply machine learning algorithms to the preprocessed data to develop predictive models. The model function trains a classifier on the training data, evaluates its performance using cross-validation and ROC AUC score, and plots the Receiver Operating Characteristic (ROC) curve. The model_evaluation function assesses the trained model's performance using a confusion matrix and classification report, providing insights into its predictive accuracy and error types. These steps collectively enable us to iteratively refine and evaluate our models to achieve optimal predictive performance."
   ]
  },
  {
   "cell_type": "code",
   "execution_count": 28,
   "metadata": {},
   "outputs": [],
   "source": [
    "def model(classifier, x_train, y_train, x_test, y_test):\n",
    "    classifier.fit(x_train, y_train)\n",
    "    prediction = classifier.predict(x_test)\n",
    "    cv = RepeatedStratifiedKFold(n_splits=10, n_repeats=3, random_state=1)\n",
    "    print(\"Cross Validation Score : \", '{0:.2%}'.format(cross_val_score(classifier, x_train, y_train, cv=cv, scoring='roc_auc').mean()))\n",
    "    print(\"ROC_AUC Score : \", '{0:.2%}'.format(roc_auc_score(y_test, prediction)))\n",
    "    \n",
    "    # Compute ROC curve and ROC area for each class\n",
    "    fpr, tpr, _ = roc_curve(y_test, prediction)\n",
    "    roc_auc = auc(fpr, tpr)\n",
    "\n",
    "    # Plot ROC curve\n",
    "    plt.figure()\n",
    "    plt.plot(fpr, tpr, color='darkorange', lw=2, label='ROC curve (area = %0.2f)' % roc_auc)\n",
    "    plt.plot([0, 1], [0, 1], color='navy', lw=2, linestyle='--')\n",
    "    plt.xlim([0.0, 1.0])\n",
    "    plt.ylim([0.0, 1.05])\n",
    "    plt.xlabel('False Positive Rate')\n",
    "    plt.ylabel('True Positive Rate')\n",
    "    plt.title('Receiver Operating Characteristic (ROC) Curve')\n",
    "    plt.legend(loc=\"lower right\")\n",
    "    plt.show()\n",
    "    \n",
    "def model_evaluation(classifier,x_test,y_test):\n",
    "    \n",
    "    # Confusion Matrix\n",
    "    cm = confusion_matrix(y_test,classifier.predict(x_test))\n",
    "    names = ['True Neg','False Pos','False Neg','True Pos']\n",
    "    counts = [value for value in cm.flatten()]\n",
    "    percentages = ['{0:.2%}'.format(value) for value in cm.flatten()/np.sum(cm)]\n",
    "    labels = [f'{v1}\\n{v2}\\n{v3}' for v1, v2, v3 in zip(names,counts,percentages)]\n",
    "    labels = np.asarray(labels).reshape(2,2)\n",
    "    sns.heatmap(cm,annot = labels,cmap = 'Oranges',fmt ='')\n",
    "    \n",
    "    # Classification Report\n",
    "    print(classification_report(y_test,classifier.predict(x_test)))"
   ]
  },
  {
   "cell_type": "markdown",
   "metadata": {},
   "source": [
    "- The above-defined functions aim to streamline the modeling process by facilitating the training of various models. This approach allows for the definition of a model, acquisition of cross-validation scores, and evaluation metrics in a cohesive manner."
   ]
  },
  {
   "cell_type": "markdown",
   "metadata": {},
   "source": [
    "### Logistic Regression (Untuned)"
   ]
  },
  {
   "cell_type": "code",
   "execution_count": 29,
   "metadata": {},
   "outputs": [
    {
     "name": "stdout",
     "output_type": "stream",
     "text": [
      "Cross Validation Score :  99.09%\n",
      "ROC_AUC Score :  95.49%\n"
     ]
    },
    {
     "data": {
      "image/png": "[encoded data removed]",
      "text/plain": [
       "<Figure size 432x288 with 1 Axes>"
      ]
     },
     "metadata": {
      "needs_background": "light"
     },
     "output_type": "display_data"
    },
    {
     "name": "stdout",
     "output_type": "stream",
     "text": [
      "              precision    recall  f1-score   support\n",
      "\n",
      "           0       1.00      0.96      0.98     15979\n",
      "           1       0.03      0.95      0.06        21\n",
      "\n",
      "    accuracy                           0.96     16000\n",
      "   macro avg       0.51      0.95      0.52     16000\n",
      "weighted avg       1.00      0.96      0.98     16000\n",
      "\n"
     ]
    },
    {
     "data": {
      "image/png": "[encoded data removed]",
      "text/plain": [
       "<Figure size 432x288 with 2 Axes>"
      ]
     },
     "metadata": {
      "needs_background": "light"
     },
     "output_type": "display_data"
    }
   ],
   "source": [
    "# Training our Vanilla Model using Default Parameters \n",
    "\n",
    "# Instantiating LogisitRegression\n",
    "\n",
    "classifier_lr = LogisticRegression(random_state=42)\n",
    "\n",
    "model(classifier_lr, X_train, y_train, X_test, y_test)\n",
    "model_evaluation(classifier_lr, X_test, y_test)"
   ]
  },
  {
   "cell_type": "markdown",
   "metadata": {},
   "source": [
    "The base logistic regression model achieved a Cross Validation Score of 99.09%, indicating strong performance across multiple train-test splits. Additionally, the model attained a ROC_AUC Score of 95.49%, suggesting its effectiveness in distinguishing between the positive and negative classes. In terms of classification metrics, the model demonstrated high precision (1.00) for the majority class (0), indicating its ability to accurately identify non-fraudulent transactions. While the recall (0.86) and F1-score (0.45) for the minority class (1) are lower, the model still shows promise in correctly identifying fraudulent transactions. Overall, the model exhibits excellent accuracy and effectiveness in identifying both classes, with minor room for improvement in capturing more fraudulent cases."
   ]
  },
  {
   "cell_type": "markdown",
   "metadata": {},
   "source": [
    "#### Logistic Regression (Tuned)"
   ]
  },
  {
   "cell_type": "code",
   "execution_count": 32,
   "metadata": {},
   "outputs": [
    {
     "name": "stdout",
     "output_type": "stream",
     "text": [
      "Best Hyperparameters: {'solver': 'saga', 'penalty': 'l2', 'max_iter': 300, 'C': 4.281332398719396}\n"
     ]
    }
   ],
   "source": [
    "# Define the hyperparameter distribution\n",
    "param_dist = {\n",
    "    'penalty': [ 'l1', 'l2', 'none'],\n",
    "    'C': np.logspace(-4, 4, 20),\n",
    "    'solver': ['liblinear', 'newton-cg', 'lbfgs', 'sag', 'saga'],\n",
    "    'max_iter': [100, 200, 300, 400, 500]\n",
    "}\n",
    "\n",
    "# Initialize RandomizedSearchCV\n",
    "random_search = RandomizedSearchCV(\n",
    "    estimator=classifier_lr,\n",
    "    param_distributions=param_dist,\n",
    "    n_iter=50,  # Number of parameter settings that are sampled\n",
    "    cv=5,        # 5-fold cross-validation\n",
    "    random_state=42,\n",
    "    n_jobs=-1  # Use all available CPU cores\n",
    ")\n",
    "\n",
    "# Perform random search\n",
    "random_search.fit(X_train, y_train)\n",
    "\n",
    "# Print the best hyperparameters and the corresponding best score\n",
    "print(\"Best Hyperparameters:\", random_search.best_params_)"
   ]
  },
  {
   "cell_type": "code",
   "execution_count": 33,
   "metadata": {},
   "outputs": [
    {
     "name": "stdout",
     "output_type": "stream",
     "text": [
      "Cross Validation Score :  99.09%\n",
      "ROC_AUC Score :  95.49%\n"
     ]
    },
    {
     "data": {
      "image/png": "[encoded data removed]",
      "text/plain": [
       "<Figure size 432x288 with 1 Axes>"
      ]
     },
     "metadata": {
      "needs_background": "light"
     },
     "output_type": "display_data"
    },
    {
     "name": "stdout",
     "output_type": "stream",
     "text": [
      "              precision    recall  f1-score   support\n",
      "\n",
      "           0       1.00      0.96      0.98     15979\n",
      "           1       0.03      0.95      0.06        21\n",
      "\n",
      "    accuracy                           0.96     16000\n",
      "   macro avg       0.51      0.95      0.52     16000\n",
      "weighted avg       1.00      0.96      0.98     16000\n",
      "\n"
     ]
    },
    {
     "data": {
      "image/png": "[encoded data removed]",
      "text/plain": [
       "<Figure size 432x288 with 2 Axes>"
      ]
     },
     "metadata": {
      "needs_background": "light"
     },
     "output_type": "display_data"
    }
   ],
   "source": [
    "# Test tuned_model with refined paramaters on the test set\n",
    "\n",
    "classifier_lr_tuned = LogisticRegression(solver='saga', penalty='l2', max_iter=300, C=4.281332398719396)\n",
    "\n",
    "model(classifier_lr_tuned, X_train, y_train, X_test, y_test)\n",
    "model_evaluation(classifier_lr_tuned, X_test, y_test)"
   ]
  },
  {
   "cell_type": "markdown",
   "metadata": {},
   "source": [
    "Despite implementing hyperparameter tuning, the performance metrics of the tuned logistic regression model remained consistent with the untuned version. This suggests that the default hyperparameters already produced an optimal or near-optimal model for the given dataset. "
   ]
  },
  {
   "cell_type": "markdown",
   "metadata": {},
   "source": [
    "### Decision Tree Classifier (Untuned)\n",
    "\n"
   ]
  },
  {
   "cell_type": "code",
   "execution_count": 53,
   "metadata": {},
   "outputs": [
    {
     "name": "stdout",
     "output_type": "stream",
     "text": [
      "Cross Validation Score :  99.81%\n",
      "ROC_AUC Score :  92.71%\n"
     ]
    },
    {
     "data": {
      "image/png": "[encoded data removed]",
      "text/plain": [
       "<Figure size 432x288 with 1 Axes>"
      ]
     },
     "metadata": {
      "needs_background": "light"
     },
     "output_type": "display_data"
    },
    {
     "name": "stdout",
     "output_type": "stream",
     "text": [
      "              precision    recall  f1-score   support\n",
      "\n",
      "           0       1.00      1.00      1.00     15979\n",
      "           1       0.28      0.86      0.42        21\n",
      "\n",
      "    accuracy                           1.00     16000\n",
      "   macro avg       0.64      0.93      0.71     16000\n",
      "weighted avg       1.00      1.00      1.00     16000\n",
      "\n"
     ]
    },
    {
     "data": {
      "image/png": "[encoded data removed]",
      "text/plain": [
       "<Figure size 432x288 with 2 Axes>"
      ]
     },
     "metadata": {
      "needs_background": "light"
     },
     "output_type": "display_data"
    }
   ],
   "source": [
    "# Training our Vanilla Model using Default Parameters \n",
    "\n",
    "# Instantiating DecisionTreeClassifier\n",
    "\n",
    "classifier_dt = DecisionTreeClassifier(random_state=1000)\n",
    "\n",
    "model(classifier_dt, X_train, y_train, X_test, y_test)\n",
    "model_evaluation(classifier_dt, X_test, y_test)"
   ]
  },
  {
   "cell_type": "markdown",
   "metadata": {},
   "source": [
    "The decision tree classifier model (untuned) achieved a high cross-validation score of 99.81% and an ROC_AUC score of 92.71%. While its precision, recall, and F1-score for the minority class (class 1) were relatively low, the model exhibited excellent accuracy for the majority class (class 0). Further optimization may be necessary to improve performance on the minority class without compromising overall accuracy."
   ]
  },
  {
   "cell_type": "markdown",
   "metadata": {},
   "source": [
    "#### Decision Tree Classifier (Tuned)"
   ]
  },
  {
   "cell_type": "code",
   "execution_count": 54,
   "metadata": {},
   "outputs": [
    {
     "name": "stdout",
     "output_type": "stream",
     "text": [
      "Best Parameters:\n",
      "{'criterion': 'gini', 'max_depth': 19, 'max_features': 'sqrt', 'min_samples_leaf': 2, 'min_samples_split': 11, 'splitter': 'best'}\n"
     ]
    }
   ],
   "source": [
    "#hyperparameter tuning using random search\n",
    "\n",
    "from sklearn.model_selection import RandomizedSearchCV\n",
    "from scipy.stats import randint\n",
    "\n",
    "# Define the hyperparameter space\n",
    "param_dist = {\n",
    "    \"criterion\": [\"gini\", \"entropy\"],\n",
    "    \"splitter\": [\"best\", \"random\"],\n",
    "    \"max_depth\": randint(1, 20),\n",
    "    \"min_samples_split\": randint(2, 20),\n",
    "    \"min_samples_leaf\": randint(1, 20),\n",
    "    \"max_features\": [\"auto\", \"sqrt\", \"log2\", None]\n",
    "}\n",
    "\n",
    "# Initialize RandomizedSearchCV\n",
    "random_search = RandomizedSearchCV(\n",
    "    estimator= classifier_dt,\n",
    "    param_distributions=param_dist,\n",
    "    n_iter=100,  # Number of parameter settings that are sampled\n",
    "    cv=5,        # 5-fold cross-validation\n",
    "    random_state=42,\n",
    "    n_jobs=-1  # Use all available CPU cores\n",
    ")\n",
    "\n",
    "# Perform random search\n",
    "random_search.fit(X_train, y_train)\n",
    "\n",
    "# Get the best parameters found\n",
    "best_params = random_search.best_params_\n",
    "\n",
    "# Print the best parameters found\n",
    "print(\"Best Parameters:\")\n",
    "print(best_params)"
   ]
  },
  {
   "cell_type": "code",
   "execution_count": 55,
   "metadata": {},
   "outputs": [
    {
     "name": "stdout",
     "output_type": "stream",
     "text": [
      "Cross Validation Score :  99.87%\n",
      "ROC_AUC Score :  90.28%\n"
     ]
    },
    {
     "data": {
      "image/png": "[encoded data removed]",
      "text/plain": [
       "<Figure size 432x288 with 1 Axes>"
      ]
     },
     "metadata": {
      "needs_background": "light"
     },
     "output_type": "display_data"
    },
    {
     "name": "stdout",
     "output_type": "stream",
     "text": [
      "              precision    recall  f1-score   support\n",
      "\n",
      "           0       1.00      1.00      1.00     15979\n",
      "           1       0.21      0.81      0.33        21\n",
      "\n",
      "    accuracy                           1.00     16000\n",
      "   macro avg       0.60      0.90      0.67     16000\n",
      "weighted avg       1.00      1.00      1.00     16000\n",
      "\n"
     ]
    },
    {
     "data": {
      "image/png": "[encoded data removed]",
      "text/plain": [
       "<Figure size 432x288 with 2 Axes>"
      ]
     },
     "metadata": {
      "needs_background": "light"
     },
     "output_type": "display_data"
    }
   ],
   "source": [
    "# Test tuned_model with refined paramaters on the test set\n",
    "\n",
    "classifier_dt_tuned = DecisionTreeClassifier(criterion= 'gini', max_depth=19, max_features='sqrt', \n",
    "                                             min_samples_leaf=2, min_samples_split=11, splitter='best')\n",
    "\n",
    "model(classifier_dt_tuned, X_train, y_train, X_test, y_test)\n",
    "model_evaluation(classifier_dt_tuned, X_test, y_test)"
   ]
  },
  {
   "cell_type": "markdown",
   "metadata": {},
   "source": [
    "The tuned decision tree model exhibits a slightly lower ROC_AUC score of 90.28% compared to the untuned model, despite achieving a higher cross-validation score of 99.87%. While the model maintains high accuracy for the majority class (class 0), its performance on the minority class (class 1) has decreased. The precision, recall, and F1-score for class 1 are notably lower, indicating that the model struggles to correctly classify fraudulent transactions. This decline in performance on the minority class could be attributed to the tuning process, during which the model was overfitted to the training data, resulting in poorer generalization performance on unseen data. This could happen if the hyperparameters were tuned too aggressively or if the tuning process did not adequately consider the model's ability to generalize."
   ]
  },
  {
   "cell_type": "markdown",
   "metadata": {},
   "source": [
    "### K-Nearest Neighbours (Untuned)"
   ]
  },
  {
   "cell_type": "code",
   "execution_count": null,
   "metadata": {},
   "outputs": [
    {
     "name": "stdout",
     "output_type": "stream",
     "text": [
      "Cross Validation Score :  99.94%\n",
      "ROC_AUC Score :  97.46%\n"
     ]
    },
    {
     "data": {
      "image/png": "[encoded data removed]",
      "text/plain": [
       "<Figure size 432x288 with 1 Axes>"
      ]
     },
     "metadata": {
      "needs_background": "light"
     },
     "output_type": "display_data"
    }
   ],
   "source": [
    "# Training our Vanilla Model using Default Parameters \n",
    "\n",
    "# Instantiating KNeighborsClassifier\n",
    "\n",
    "knn_classifier= KNeighborsClassifier()\n",
    "\n",
    "model(knn_classifier, X_train, y_train, X_test, y_test)"
   ]
  },
  {
   "cell_type": "code",
   "execution_count": null,
   "metadata": {},
   "outputs": [
    {
     "name": "stdout",
     "output_type": "stream",
     "text": [
      "              precision    recall  f1-score   support\n",
      "\n",
      "           0       1.00      1.00      1.00     15979\n",
      "           1       0.28      0.95      0.43        21\n",
      "\n",
      "    accuracy                           1.00     16000\n",
      "   macro avg       0.64      0.97      0.72     16000\n",
      "weighted avg       1.00      1.00      1.00     16000\n",
      "\n"
     ]
    },
    {
     "data": {
      "image/png": "[encoded data removed]",
      "text/plain": [
       "<Figure size 432x288 with 2 Axes>"
      ]
     },
     "metadata": {
      "needs_background": "light"
     },
     "output_type": "display_data"
    }
   ],
   "source": [
    "model_evaluation(knn_classifier, X_test, y_test)"
   ]
  },
  {
   "cell_type": "markdown",
   "metadata": {},
   "source": [
    "The untuned KNN model demonstrates high overall performance with a cross-validation score of 99.94% and a ROC_AUC score of 97.46%. While the model achieves near-perfect accuracy for the majority class (class 0), its performance on the minority class (class 1) is relatively weaker. The precision, recall, and F1-score for class 1 indicate that the model struggles to correctly identify fraudulent transactions, with a higher recall than precision, suggesting that it may capture most of the actual fraudulent cases but also misclassify some legitimate transactions as fraudulent. Further optimization and tuning of hyperparameters, particularly adjusting the number of neighbors, may be required to enhance the model's ability to accurately detect fraudulent transactions while maintaining overall high performance."
   ]
  },
  {
   "cell_type": "code",
   "execution_count": null,
   "metadata": {},
   "outputs": [
    {
     "name": "stdout",
     "output_type": "stream",
     "text": [
      "Best n_neighbors: 3\n"
     ]
    }
   ],
   "source": [
    "# Define the parameter grid\n",
    "param_grid = {'n_neighbors': [3, 5, 7, 9, 11]}\n",
    "\n",
    "# Create the KNN classifier\n",
    "knn_classifier_tuned = KNeighborsClassifier()\n",
    "\n",
    "# Instantiate the GridSearchCV object\n",
    "grid_search = GridSearchCV(knn_classifier_tuned, param_grid, cv=3)\n",
    "\n",
    "# Fit the grid search to the data\n",
    "grid_search.fit(X_train, y_train)\n",
    "\n",
    "# Get the best parameter value\n",
    "best_n_neighbors = grid_search.best_params_['n_neighbors']\n",
    "\n",
    "# Print the best parameter value\n",
    "print(\"Best n_neighbors:\", best_n_neighbors)\n"
   ]
  },
  {
   "cell_type": "code",
   "execution_count": null,
   "metadata": {},
   "outputs": [
    {
     "name": "stdout",
     "output_type": "stream",
     "text": [
      "Cross Validation Score :  99.94%\n",
      "ROC_AUC Score :  97.51%\n"
     ]
    },
    {
     "data": {
      "image/png": "[encoded data removed]",
      "text/plain": [
       "<Figure size 432x288 with 1 Axes>"
      ]
     },
     "metadata": {
      "needs_background": "light"
     },
     "output_type": "display_data"
    },
    {
     "name": "stdout",
     "output_type": "stream",
     "text": [
      "              precision    recall  f1-score   support\n",
      "\n",
      "           0       1.00      1.00      1.00     15979\n",
      "           1       0.36      0.95      0.53        21\n",
      "\n",
      "    accuracy                           1.00     16000\n",
      "   macro avg       0.68      0.98      0.76     16000\n",
      "weighted avg       1.00      1.00      1.00     16000\n",
      "\n"
     ]
    },
    {
     "data": {
      "image/png": "[encoded data removed]",
      "text/plain": [
       "<Figure size 432x288 with 2 Axes>"
      ]
     },
     "metadata": {
      "needs_background": "light"
     },
     "output_type": "display_data"
    }
   ],
   "source": [
    "# Test tuned_model with refined paramaters on the test set\n",
    "\n",
    "# Remember default n_neighbors = 5\n",
    "\n",
    "knn_classifier_tuned = KNeighborsClassifier(n_neighbors=3)\n",
    "model(knn_classifier_tuned, X_train, y_train, X_test, y_test)\n",
    "model_evaluation(knn_classifier_tuned, X_test, y_test)"
   ]
  },
  {
   "cell_type": "markdown",
   "metadata": {},
   "source": [
    "The tuned KNN model demonstrates a slight improvement in the ROC AUC score compared to the untuned version, with a ROC AUC score of 97.51%. Worth noting is that, the precision and F1-score for the minority class (fraudulent transactions) have also increased, indicating better performance in identifying fraudulent transactions. Overall, the tuned KNN model shows enhanced performance metrics, particularly in correctly identifying fraudulent transactions, making it more effective for fraud detection purposes."
   ]
  },
  {
   "cell_type": "markdown",
   "metadata": {},
   "source": [
    "### Random Forest Classifier"
   ]
  },
  {
   "cell_type": "code",
   "execution_count": null,
   "metadata": {},
   "outputs": [
    {
     "name": "stdout",
     "output_type": "stream",
     "text": [
      "Best Parameters:\n",
      "{'max_depth': 4, 'n_estimators': 70}\n"
     ]
    }
   ],
   "source": [
    "# Instantiating RandomForestClassifier\n",
    "\n",
    "classifier_rf = RandomForestClassifier(random_state=1, n_jobs=-1)\n",
    "\n",
    "#hyperparameter tuning using random search\n",
    "\n",
    "param_dist = {'n_estimators': randint(50,100),\n",
    "              'max_depth': randint(1,5)}\n",
    "\n",
    "rand_search = RandomizedSearchCV(classifier_rf, \n",
    "                                 param_distributions = param_dist, \n",
    "                                 n_iter=5, \n",
    "                                 cv=5, \n",
    "                                 random_state=42)\n",
    "\n",
    "# Perform random search\n",
    "rand_search.fit(X_train, y_train)\n",
    "\n",
    "# Get the best parameters found\n",
    "best_params = rand_search.best_params_\n",
    "\n",
    "# Print the best parameters found\n",
    "print(\"Best Parameters:\")\n",
    "print(best_params)"
   ]
  },
  {
   "cell_type": "markdown",
   "metadata": {},
   "source": [
    "The output of the cell indicates the best hyperparameters found through random search for tuning the RandomForestClassifier. In this case, the best parameters include the number of estimators (`n_estimators`) and the maximum depth of the trees (`max_depth`). These hyperparameters are essential for controlling the complexity and performance of the random forest model. By tuning these parameters, we aim to improve the model's predictive accuracy and generalization ability. The random search algorithm explores different combinations of hyperparameters within specified ranges (`n_estimators` between 50 and 100, and `max_depth` between 1 and 5) to find the combination that maximizes the model's performance. The best parameters obtained from the random search are then printed for further analysis and model refinement."
   ]
  },
  {
   "cell_type": "code",
   "execution_count": 56,
   "metadata": {},
   "outputs": [
    {
     "name": "stdout",
     "output_type": "stream",
     "text": [
      "Cross Validation Score :  99.44%\n",
      "ROC_AUC Score :  96.67%\n"
     ]
    },
    {
     "data": {
      "image/png": "[encoded data removed]",
      "text/plain": [
       "<Figure size 432x288 with 1 Axes>"
      ]
     },
     "metadata": {
      "needs_background": "light"
     },
     "output_type": "display_data"
    },
    {
     "name": "stdout",
     "output_type": "stream",
     "text": [
      "              precision    recall  f1-score   support\n",
      "\n",
      "           0       1.00      0.98      0.99     15979\n",
      "           1       0.06      0.95      0.12        21\n",
      "\n",
      "    accuracy                           0.98     16000\n",
      "   macro avg       0.53      0.97      0.55     16000\n",
      "weighted avg       1.00      0.98      0.99     16000\n",
      "\n"
     ]
    },
    {
     "data": {
      "image/png": "[encoded data removed]",
      "text/plain": [
       "<Figure size 432x288 with 2 Axes>"
      ]
     },
     "metadata": {
      "needs_background": "light"
     },
     "output_type": "display_data"
    }
   ],
   "source": [
    "# Test tuned_model with refined paramaters \n",
    "\n",
    "classifier_rf_tuned = RandomForestClassifier(max_depth=4, n_estimators=70, n_jobs=-1)\n",
    "\n",
    "model(classifier_rf_tuned, X_train, y_train, X_test, y_test)\n",
    "model_evaluation(classifier_rf_tuned, X_test, y_test)"
   ]
  },
  {
   "cell_type": "markdown",
   "metadata": {},
   "source": [
    "`NB:`\n",
    "\n",
    "Due to the lengthy training time required for the base Random Forest model with default parameters, a decision was made to conduct hyperparameter tuning using random search instead. By employing random search, we efficiently explore various combinations of hyperparameters within predefined ranges to identify the optimal set that maximizes model performance. This approach allows us to find the best parameters for the Random Forest model while minimizing computational resources and time."
   ]
  },
  {
   "cell_type": "markdown",
   "metadata": {},
   "source": [
    "### Model Comparison Table :\n",
    "\n",
    "|Sr. No.|ML Algorithm|Cross Validation Score|ROC AUC Score|Recall Score (Fraud)|False Positives|False Negatives|\n",
    "|-|-|-|-|-|-|-|\n",
    "|1a|Logistic Regression (Vanilla)|99.09%|95.49%|95%|4.26%|0.01%|\n",
    "|1b|Logistic Regression (Tuned)|99.09%|95.49%|95%|4.26%|0.01%|\n",
    "|2a|Decision Tree Classifier (Vanilla) |99.81%|92.71%|86%|0.29%|0.02%|\n",
    "|2b|Decision Tree Classifier (Tuned) |99.87%|90.28%|81%|0.40%|0.03%|\n",
    "|3a|KNN Classifier (Vanilla) |99.94%|97.46%|95%|0.32%|0.01%|\n",
    "|3b|KNN Classifier (Tuned) |99.94%|97.51%|95%|0.22%|0.01%|\n",
    "|4|Random Forest Classifier (Tuned) |99.46%|96.67%|95%|1.90%|0.01%|"
   ]
  },
  {
   "cell_type": "markdown",
   "metadata": {},
   "source": [
    "## Conclusion:\n",
    "Based on the comparison of multiple machine learning algorithms for the task of detecting fraudulent credit card transactions, several observations can be made. Firstly, logistic regression, both in its vanilla and tuned forms, consistently achieved high performance in terms of cross-validation and ROC AUC scores. However, there was no significant improvement observed after tuning, indicating that the default parameters were already well-suited for the task.\n",
    "\n",
    "In contrast, the decision tree classifier, although achieving a high cross-validation score in its vanilla form, exhibited a decrease in ROC AUC score after tuning. This suggests that the hyperparameters chosen during tuning might have led to overfitting or suboptimal performance on unseen data.\n",
    "\n",
    "The KNN classifier, both in its vanilla and tuned versions, demonstrated impressive performance across all metrics, including cross-validation score, ROC AUC score, and recall score for fraud detection. However, the improvement in performance after tuning was minimal, indicating that the default parameters were already effective.\n",
    "\n",
    "Due to computational limitations, a base Random Forest classifier could not be trained, and instead, hyperparameter tuning was performed. The resulting tuned Random Forest model exhibited competitive performance, although not surpassing the KNN classifier in terms of ROC AUC score.\n",
    "\n",
    "\n",
    "\n"
   ]
  },
  {
   "cell_type": "markdown",
   "metadata": {},
   "source": [
    "## Limitations:\n",
    "- The evaluation of models was based on a single dataset, which may not fully represent all scenarios and distributions of credit card transactions.\n",
    "- The tuning process for each algorithm may not have explored the entire hyperparameter space exhaustively, potentially leading to suboptimal parameter choices.\n",
    "- The evaluation metrics used may not capture all aspects of model performance, such as computational efficiency\n",
    "- Feature selection could not be informed by domain knowledge since the columns were anonymized for confidentiality reasons. As a result, important features that could have improved model performance may have been overlooked or not considered during the modeling process.\n",
    "- While SMOTE was employed to address the issue of heavy class imbalance in the dataset, it's important to note that synthetic oversampling techniques like SMOTE may introduce noise or synthetic samples that do not accurately represent the underlying data distribution. Therefore, the performance of the models trained on the oversampled data may be influenced by the synthetic nature of the generated samples, potentially affecting the generalization ability of the models."
   ]
  },
  {
   "cell_type": "markdown",
   "metadata": {},
   "source": [
    "## Recommendations:\n",
    "- Further exploration of hyperparameter tuning techniques, such as Bayesian optimization or grid search, may yield better-tuned models with improved performance.\n",
    "- Ensemble methods, such as stacking or boosting, could be explored to combine the strengths of multiple models and mitigate individual weaknesses.\n",
    "- Continual monitoring and updating of models with new data and evolving fraud patterns are essential to maintain their effectiveness over time."
   ]
  }
 ],
 "metadata": {
  "kernelspec": {
   "display_name": "Python 3 (ipykernel)",
   "language": "python",
   "name": "python3"
  },
  "language_info": {
   "codemirror_mode": {
    "name": "ipython",
    "version": 3
   },
   "file_extension": ".py",
   "mimetype": "text/x-python",
   "name": "python",
   "nbconvert_exporter": "python",
   "pygments_lexer": "ipython3",
   "version": "3.8.5"
  }
 },
 "nbformat": 4,
 "nbformat_minor": 2
}
